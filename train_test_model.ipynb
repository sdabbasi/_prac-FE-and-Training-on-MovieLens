{
 "cells": [
  {
   "cell_type": "code",
   "execution_count": 104,
   "metadata": {},
   "outputs": [],
   "source": [
    "import torch\n",
    "from torch import nn\n",
    "import torch.functional as F\n",
    "from torch.utils.data import DataLoader\n",
    "import pandas as pd\n",
    "import numpy as np\n",
    "from sklearn.preprocessing import MultiLabelBinarizer\n",
    "import time as ti\n",
    "import matplotlib.pyplot as plt"
   ]
  },
  {
   "cell_type": "code",
   "execution_count": null,
   "metadata": {},
   "outputs": [],
   "source": []
  },
  {
   "cell_type": "code",
   "execution_count": 105,
   "metadata": {},
   "outputs": [
    {
     "name": "stdout",
     "output_type": "stream",
     "text": [
      "<class 'pandas.core.frame.DataFrame'>\n",
      "RangeIndex: 904757 entries, 0 to 904756\n",
      "Data columns (total 9 columns):\n",
      " #   Column          Non-Null Count   Dtype  \n",
      "---  ------          --------------   -----  \n",
      " 0   UserAvgRating   904757 non-null  float64\n",
      " 1   Occupation      904757 non-null  int64  \n",
      " 2   Gender          904757 non-null  object \n",
      " 3   Age             904757 non-null  int64  \n",
      " 4   FavGenre        904757 non-null  object \n",
      " 5   MovieAvgRating  904757 non-null  float64\n",
      " 6   Genres          904757 non-null  object \n",
      " 7   Year            904757 non-null  int64  \n",
      " 8   Rating          904757 non-null  int64  \n",
      "dtypes: float64(2), int64(4), object(3)\n",
      "memory usage: 62.1+ MB\n",
      "<class 'pandas.core.frame.DataFrame'>\n",
      "RangeIndex: 95452 entries, 0 to 95451\n",
      "Data columns (total 9 columns):\n",
      " #   Column          Non-Null Count  Dtype  \n",
      "---  ------          --------------  -----  \n",
      " 0   UserAvgRating   95452 non-null  float64\n",
      " 1   Occupation      95452 non-null  int64  \n",
      " 2   Gender          95452 non-null  object \n",
      " 3   Age             95452 non-null  int64  \n",
      " 4   FavGenre        95452 non-null  object \n",
      " 5   MovieAvgRating  95452 non-null  float64\n",
      " 6   Genres          95452 non-null  object \n",
      " 7   Year            95452 non-null  int64  \n",
      " 8   Rating          95452 non-null  int64  \n",
      "dtypes: float64(2), int64(4), object(3)\n",
      "memory usage: 6.6+ MB\n"
     ]
    },
    {
     "data": {
      "text/plain": [
       "(None, None)"
      ]
     },
     "execution_count": 105,
     "metadata": {},
     "output_type": "execute_result"
    }
   ],
   "source": [
    "train_data = pd.read_csv('./data/processed_data/train_data.csv', sep='^')\n",
    "valid_data = pd.read_csv('./data/processed_data/validation_data.csv', sep='^')\n",
    "train_data.info(), valid_data.info()"
   ]
  },
  {
   "cell_type": "code",
   "execution_count": 106,
   "metadata": {},
   "outputs": [
    {
     "data": {
      "text/plain": [
       "(array([[0, 0, 0, ..., 0, 0, 0],\n",
       "        [0, 0, 0, ..., 0, 0, 0],\n",
       "        [0, 0, 0, ..., 0, 0, 0],\n",
       "        ...,\n",
       "        [0, 0, 0, ..., 0, 0, 0],\n",
       "        [0, 0, 0, ..., 0, 0, 1],\n",
       "        [0, 0, 0, ..., 0, 0, 0]]),\n",
       " ['Action',\n",
       "  'Adventure',\n",
       "  'Animation',\n",
       "  \"Children's\",\n",
       "  'Comedy',\n",
       "  'Crime',\n",
       "  'Documentary',\n",
       "  'Drama',\n",
       "  'Fantasy',\n",
       "  'Film-Noir',\n",
       "  'Horror',\n",
       "  'Musical',\n",
       "  'Mystery',\n",
       "  'Romance',\n",
       "  'Sci-Fi',\n",
       "  'Thriller',\n",
       "  'War',\n",
       "  'Western'])"
      ]
     },
     "execution_count": 106,
     "metadata": {},
     "output_type": "execute_result"
    }
   ],
   "source": [
    "train_data.Genres = train_data.Genres.str.split('|')\n",
    "mlb = MultiLabelBinarizer()\n",
    "genres = mlb.fit_transform(train_data.Genres)\n",
    "list_name_genres = mlb.classes_.tolist()\n",
    "train_data = pd.concat([train_data, pd.DataFrame(genres, columns=list_name_genres)], axis=1)\n",
    "train_data = train_data.drop(columns=['Genres'])\n",
    "genres, list_name_genres"
   ]
  },
  {
   "cell_type": "code",
   "execution_count": 107,
   "metadata": {},
   "outputs": [
    {
     "data": {
      "text/plain": [
       "(array([[0, 0, 1, ..., 0, 0, 0],\n",
       "        [0, 0, 1, ..., 0, 0, 0],\n",
       "        [0, 0, 1, ..., 0, 0, 0],\n",
       "        ...,\n",
       "        [0, 0, 0, ..., 0, 0, 0],\n",
       "        [0, 0, 0, ..., 0, 0, 0],\n",
       "        [0, 0, 0, ..., 0, 0, 0]]),\n",
       " ['Action',\n",
       "  'Adventure',\n",
       "  'Animation',\n",
       "  \"Children's\",\n",
       "  'Comedy',\n",
       "  'Crime',\n",
       "  'Documentary',\n",
       "  'Drama',\n",
       "  'Fantasy',\n",
       "  'Film-Noir',\n",
       "  'Horror',\n",
       "  'Musical',\n",
       "  'Mystery',\n",
       "  'Romance',\n",
       "  'Sci-Fi',\n",
       "  'Thriller',\n",
       "  'War',\n",
       "  'Western'])"
      ]
     },
     "execution_count": 107,
     "metadata": {},
     "output_type": "execute_result"
    }
   ],
   "source": [
    "valid_data.Genres = valid_data.Genres.str.split('|')\n",
    "mlb = MultiLabelBinarizer()\n",
    "genres = mlb.fit_transform(valid_data.Genres)\n",
    "valid_data = pd.concat([valid_data, pd.DataFrame(genres, columns=mlb.classes_.tolist())], axis=1)\n",
    "valid_data = valid_data.drop(columns=['Genres'])\n",
    "genres, mlb.classes_.tolist()"
   ]
  },
  {
   "cell_type": "code",
   "execution_count": 108,
   "metadata": {},
   "outputs": [
    {
     "name": "stdout",
     "output_type": "stream",
     "text": [
      "|    |   UserAvgRating |   Occupation | Gender   |   Age | FavGenre   |   MovieAvgRating |   Year |   Rating |   Action |   Adventure |   Animation |   Children's |   Comedy |   Crime |   Documentary |   Drama |   Fantasy |   Film-Noir |   Horror |   Musical |   Mystery |   Romance |   Sci-Fi |   Thriller |   War |   Western |\n",
      "|---:|----------------:|-------------:|:---------|------:|:-----------|-----------------:|-------:|---------:|---------:|------------:|------------:|-------------:|---------:|--------:|--------------:|--------:|----------:|------------:|---------:|----------:|----------:|----------:|---------:|-----------:|------:|----------:|\n",
      "|  0 |             4.2 |           10 | F        |     1 | Drama      |              4.4 |   1980 |        5 |        0 |           0 |           0 |            0 |        0 |       0 |             0 |       1 |         0 |           0 |        0 |         0 |         0 |         0 |        0 |          0 |     0 |         0 |\n",
      "|  1 |             3.7 |           16 | M        |    56 | Drama      |              4.4 |   1980 |        5 |        0 |           0 |           0 |            0 |        0 |       0 |             0 |       1 |         0 |           0 |        0 |         0 |         0 |         0 |        0 |          0 |     0 |         0 |\n",
      "|  2 |             3.8 |           12 | M        |    25 | Drama      |              4.4 |   1980 |        4 |        0 |           0 |           0 |            0 |        0 |       0 |             0 |       1 |         0 |           0 |        0 |         0 |         0 |         0 |        0 |          0 |     0 |         0 |\n",
      "|  3 |             3.3 |            7 | M        |    25 | Drama      |              4.4 |   1980 |        4 |        0 |           0 |           0 |            0 |        0 |       0 |             0 |       1 |         0 |           0 |        0 |         0 |         0 |         0 |        0 |          0 |     0 |         0 |\n",
      "|  4 |             4.1 |            1 | M        |    50 | Sci-Fi     |              4.4 |   1980 |        5 |        0 |           0 |           0 |            0 |        0 |       0 |             0 |       1 |         0 |           0 |        0 |         0 |         0 |         0 |        0 |          0 |     0 |         0 |\n",
      "|  5 |             3.6 |            3 | F        |    18 | Action     |              4.4 |   1980 |        4 |        0 |           0 |           0 |            0 |        0 |       0 |             0 |       1 |         0 |           0 |        0 |         0 |         0 |         0 |        0 |          0 |     0 |         0 |\n",
      "|  6 |             3.9 |            7 | F        |    25 | Comedy     |              4.4 |   1980 |        5 |        0 |           0 |           0 |            0 |        0 |       0 |             0 |       1 |         0 |           0 |        0 |         0 |         0 |         0 |        0 |          0 |     0 |         0 |\n",
      "|  7 |             3.8 |            1 | F        |    25 | Drama      |              4.4 |   1980 |        3 |        0 |           0 |           0 |            0 |        0 |       0 |             0 |       1 |         0 |           0 |        0 |         0 |         0 |         0 |        0 |          0 |     0 |         0 |\n",
      "|  8 |             3.6 |            4 | M        |    18 | Comedy     |              4.4 |   1980 |        5 |        0 |           0 |           0 |            0 |        0 |       0 |             0 |       1 |         0 |           0 |        0 |         0 |         0 |         0 |        0 |          0 |     0 |         0 |\n",
      "|  9 |             3.7 |            8 | M        |    25 | Action     |              4.4 |   1980 |        3 |        0 |           0 |           0 |            0 |        0 |       0 |             0 |       1 |         0 |           0 |        0 |         0 |         0 |         0 |        0 |          0 |     0 |         0 |\n",
      "| 10 |             3.9 |           17 | M        |    45 | Comedy     |              4.4 |   1980 |        4 |        0 |           0 |           0 |            0 |        0 |       0 |             0 |       1 |         0 |           0 |        0 |         0 |         0 |         0 |        0 |          0 |     0 |         0 |\n",
      "| 11 |             3.9 |            4 | M        |    18 | Drama      |              4.4 |   1980 |        4 |        0 |           0 |           0 |            0 |        0 |       0 |             0 |       1 |         0 |           0 |        0 |         0 |         0 |         0 |        0 |          0 |     0 |         0 |\n",
      "| 12 |             3.1 |            4 | M        |    25 | Comedy     |              4.4 |   1980 |        4 |        0 |           0 |           0 |            0 |        0 |       0 |             0 |       1 |         0 |           0 |        0 |         0 |         0 |         0 |        0 |          0 |     0 |         0 |\n",
      "| 13 |             4.2 |            0 | M        |    25 | Drama      |              4.4 |   1980 |        5 |        0 |           0 |           0 |            0 |        0 |       0 |             0 |       1 |         0 |           0 |        0 |         0 |         0 |         0 |        0 |          0 |     0 |         0 |\n",
      "| 14 |             4   |            1 | M        |    50 | Comedy     |              4.4 |   1980 |        5 |        0 |           0 |           0 |            0 |        0 |       0 |             0 |       1 |         0 |           0 |        0 |         0 |         0 |         0 |        0 |          0 |     0 |         0 |\n",
      "| 15 |             4   |            2 | M        |    25 | Action     |              4.4 |   1980 |        5 |        0 |           0 |           0 |            0 |        0 |       0 |             0 |       1 |         0 |           0 |        0 |         0 |         0 |         0 |        0 |          0 |     0 |         0 |\n",
      "| 16 |             3.5 |            1 | F        |    50 | Drama      |              4.4 |   1980 |        4 |        0 |           0 |           0 |            0 |        0 |       0 |             0 |       1 |         0 |           0 |        0 |         0 |         0 |         0 |        0 |          0 |     0 |         0 |\n",
      "| 17 |             3.6 |            3 | F        |    35 | Drama      |              4.4 |   1980 |        4 |        0 |           0 |           0 |            0 |        0 |       0 |             0 |       1 |         0 |           0 |        0 |         0 |         0 |         0 |        0 |          0 |     0 |         0 |\n",
      "| 18 |             3.9 |            1 | M        |    56 | Drama      |              4.4 |   1980 |        4 |        0 |           0 |           0 |            0 |        0 |       0 |             0 |       1 |         0 |           0 |        0 |         0 |         0 |         0 |        0 |          0 |     0 |         0 |\n",
      "| 19 |             4.4 |            0 | F        |    25 | Drama      |              4.4 |   1980 |        5 |        0 |           0 |           0 |            0 |        0 |       0 |             0 |       1 |         0 |           0 |        0 |         0 |         0 |         0 |        0 |          0 |     0 |         0 |\n"
     ]
    }
   ],
   "source": [
    "print(train_data.head(20).to_markdown())"
   ]
  },
  {
   "cell_type": "code",
   "execution_count": 109,
   "metadata": {},
   "outputs": [],
   "source": [
    "categ_col_names = ['FavGenre', 'Year', 'Age', 'Gender', 'Occupation']\n",
    "cont_col_names = ['UserAvgRating', 'MovieAvgRating', *list_name_genres]\n",
    "output_value = 'Rating'"
   ]
  },
  {
   "cell_type": "code",
   "execution_count": 110,
   "metadata": {},
   "outputs": [
    {
     "data": {
      "text/plain": [
       "((904757, 26), (95452, 26))"
      ]
     },
     "execution_count": 110,
     "metadata": {},
     "output_type": "execute_result"
    }
   ],
   "source": [
    "train_data.shape, valid_data.shape"
   ]
  },
  {
   "cell_type": "code",
   "execution_count": 111,
   "metadata": {},
   "outputs": [
    {
     "name": "stdout",
     "output_type": "stream",
     "text": [
      "<class 'pandas.core.frame.DataFrame'>\n",
      "RangeIndex: 904757 entries, 0 to 904756\n",
      "Data columns (total 26 columns):\n",
      " #   Column          Non-Null Count   Dtype   \n",
      "---  ------          --------------   -----   \n",
      " 0   UserAvgRating   904757 non-null  float64 \n",
      " 1   Occupation      904757 non-null  category\n",
      " 2   Gender          904757 non-null  category\n",
      " 3   Age             904757 non-null  category\n",
      " 4   FavGenre        904757 non-null  category\n",
      " 5   MovieAvgRating  904757 non-null  float64 \n",
      " 6   Year            904757 non-null  category\n",
      " 7   Rating          904757 non-null  int64   \n",
      " 8   Action          904757 non-null  int32   \n",
      " 9   Adventure       904757 non-null  int32   \n",
      " 10  Animation       904757 non-null  int32   \n",
      " 11  Children's      904757 non-null  int32   \n",
      " 12  Comedy          904757 non-null  int32   \n",
      " 13  Crime           904757 non-null  int32   \n",
      " 14  Documentary     904757 non-null  int32   \n",
      " 15  Drama           904757 non-null  int32   \n",
      " 16  Fantasy         904757 non-null  int32   \n",
      " 17  Film-Noir       904757 non-null  int32   \n",
      " 18  Horror          904757 non-null  int32   \n",
      " 19  Musical         904757 non-null  int32   \n",
      " 20  Mystery         904757 non-null  int32   \n",
      " 21  Romance         904757 non-null  int32   \n",
      " 22  Sci-Fi          904757 non-null  int32   \n",
      " 23  Thriller        904757 non-null  int32   \n",
      " 24  War             904757 non-null  int32   \n",
      " 25  Western         904757 non-null  int32   \n",
      "dtypes: category(5), float64(2), int32(18), int64(1)\n",
      "memory usage: 87.1 MB\n",
      "<class 'pandas.core.frame.DataFrame'>\n",
      "RangeIndex: 95452 entries, 0 to 95451\n",
      "Data columns (total 26 columns):\n",
      " #   Column          Non-Null Count  Dtype   \n",
      "---  ------          --------------  -----   \n",
      " 0   UserAvgRating   95452 non-null  float64 \n",
      " 1   Occupation      95452 non-null  category\n",
      " 2   Gender          95452 non-null  category\n",
      " 3   Age             95452 non-null  category\n",
      " 4   FavGenre        95452 non-null  category\n",
      " 5   MovieAvgRating  95452 non-null  float64 \n",
      " 6   Year            95452 non-null  category\n",
      " 7   Rating          95452 non-null  int64   \n",
      " 8   Action          95452 non-null  int32   \n",
      " 9   Adventure       95452 non-null  int32   \n",
      " 10  Animation       95452 non-null  int32   \n",
      " 11  Children's      95452 non-null  int32   \n",
      " 12  Comedy          95452 non-null  int32   \n",
      " 13  Crime           95452 non-null  int32   \n",
      " 14  Documentary     95452 non-null  int32   \n",
      " 15  Drama           95452 non-null  int32   \n",
      " 16  Fantasy         95452 non-null  int32   \n",
      " 17  Film-Noir       95452 non-null  int32   \n",
      " 18  Horror          95452 non-null  int32   \n",
      " 19  Musical         95452 non-null  int32   \n",
      " 20  Mystery         95452 non-null  int32   \n",
      " 21  Romance         95452 non-null  int32   \n",
      " 22  Sci-Fi          95452 non-null  int32   \n",
      " 23  Thriller        95452 non-null  int32   \n",
      " 24  War             95452 non-null  int32   \n",
      " 25  Western         95452 non-null  int32   \n",
      "dtypes: category(5), float64(2), int32(18), int64(1)\n",
      "memory usage: 9.2 MB\n"
     ]
    },
    {
     "data": {
      "text/plain": [
       "(None, None)"
      ]
     },
     "execution_count": 111,
     "metadata": {},
     "output_type": "execute_result"
    }
   ],
   "source": [
    "for cat in categ_col_names:\n",
    "    train_data[cat] = train_data[cat].astype('category')\n",
    "for cat in categ_col_names:\n",
    "    valid_data[cat] = valid_data[cat].astype('category')\n",
    "train_data.info(), valid_data.info()"
   ]
  },
  {
   "cell_type": "code",
   "execution_count": 112,
   "metadata": {},
   "outputs": [
    {
     "data": {
      "text/plain": [
       "(Index(['Action', 'Adventure', 'Animation', 'Children's', 'Comedy', 'Crime',\n",
       "        'Documentary', 'Drama', 'Fantasy', 'Film-Noir', 'Horror', 'Musical',\n",
       "        'Mystery', 'Romance', 'Sci-Fi', 'Thriller', 'War', 'Western'],\n",
       "       dtype='object'),\n",
       " 0          7\n",
       " 1          7\n",
       " 2          7\n",
       " 3          7\n",
       " 4         14\n",
       "           ..\n",
       " 904752     7\n",
       " 904753     7\n",
       " 904754    15\n",
       " 904755     3\n",
       " 904756     4\n",
       " Length: 904757, dtype: int8)"
      ]
     },
     "execution_count": 112,
     "metadata": {},
     "output_type": "execute_result"
    }
   ],
   "source": [
    "train_data.FavGenre.cat.categories, train_data.FavGenre.cat.codes"
   ]
  },
  {
   "cell_type": "code",
   "execution_count": 113,
   "metadata": {},
   "outputs": [
    {
     "data": {
      "text/plain": [
       "(Index(['Action', 'Adventure', 'Animation', 'Children's', 'Comedy', 'Crime',\n",
       "        'Documentary', 'Drama', 'Fantasy', 'Film-Noir', 'Horror', 'Musical',\n",
       "        'Mystery', 'Romance', 'Sci-Fi', 'Thriller', 'War'],\n",
       "       dtype='object'),\n",
       " 0         2\n",
       " 1         4\n",
       " 2         4\n",
       " 3        14\n",
       " 4         4\n",
       "          ..\n",
       " 95447     4\n",
       " 95448     7\n",
       " 95449     7\n",
       " 95450     7\n",
       " 95451     7\n",
       " Length: 95452, dtype: int8)"
      ]
     },
     "execution_count": 113,
     "metadata": {},
     "output_type": "execute_result"
    }
   ],
   "source": [
    "valid_data.FavGenre.cat.categories, valid_data.FavGenre.cat.codes"
   ]
  },
  {
   "cell_type": "code",
   "execution_count": 114,
   "metadata": {},
   "outputs": [
    {
     "data": {
      "text/plain": [
       "[(18, 9), (5, 3), (7, 4), (2, 1), (21, 11)]"
      ]
     },
     "execution_count": 114,
     "metadata": {},
     "output_type": "execute_result"
    }
   ],
   "source": [
    "categ_data_size = [len(train_data[cat].cat.categories) for cat in categ_col_names]\n",
    "embedding_size_list = [(cat_sz, min(50, (cat_sz+1)//2)) for cat_sz in categ_data_size]\n",
    "embedding_size_list"
   ]
  },
  {
   "cell_type": "code",
   "execution_count": null,
   "metadata": {},
   "outputs": [],
   "source": []
  },
  {
   "cell_type": "code",
   "execution_count": 115,
   "metadata": {},
   "outputs": [
    {
     "data": {
      "text/plain": [
       "(device(type='cuda', index=0), 'NVIDIA GeForce 940M')"
      ]
     },
     "execution_count": 115,
     "metadata": {},
     "output_type": "execute_result"
    }
   ],
   "source": [
    "device = torch.device(\"cuda:0\" if torch.cuda.is_available() else \"cpu\")\n",
    "device, torch.cuda.get_device_name(0)"
   ]
  },
  {
   "cell_type": "code",
   "execution_count": 116,
   "metadata": {},
   "outputs": [
    {
     "data": {
      "text/plain": [
       "((904757, 20), (904757, 5), (904757, 1), (904757, 26))"
      ]
     },
     "execution_count": 116,
     "metadata": {},
     "output_type": "execute_result"
    }
   ],
   "source": [
    "np_cont_train = np.stack([train_data[c].values for c in cont_col_names], axis=1)\n",
    "np_cats_train = np.stack([train_data[c].cat.codes.values for c in categ_col_names], axis=1)\n",
    "np_y_train = np.stack(train_data[output_value].values).reshape((-1, 1))\n",
    "\n",
    "np_all_train = np.concatenate((np_cont_train, np_cats_train, np_y_train), axis=1)\n",
    "\n",
    "np_cont_train.shape, np_cats_train.shape, np_y_train.shape, np_all_train.shape"
   ]
  },
  {
   "cell_type": "code",
   "execution_count": 117,
   "metadata": {},
   "outputs": [
    {
     "data": {
      "text/plain": [
       "((95452, 20), (95452, 5), (95452, 1), (95452, 26))"
      ]
     },
     "execution_count": 117,
     "metadata": {},
     "output_type": "execute_result"
    }
   ],
   "source": [
    "np_cont_valid = np.stack([valid_data[c].values for c in cont_col_names], axis=1)\n",
    "np_cats_valid = np.stack([valid_data[c].cat.codes.values for c in categ_col_names], axis=1)\n",
    "np_y_valid = np.stack(valid_data[output_value].values).reshape((-1, 1))\n",
    "\n",
    "np_all_valid = np.concatenate((np_cont_valid, np_cats_valid, np_y_valid), axis=1)\n",
    "\n",
    "np_cont_valid.shape, np_cats_valid.shape, np_y_valid.shape, np_all_valid.shape"
   ]
  },
  {
   "cell_type": "code",
   "execution_count": 118,
   "metadata": {},
   "outputs": [],
   "source": [
    "def data_suffler(np_all_training):\n",
    "    return np.random.permutation(np_all_training)"
   ]
  },
  {
   "cell_type": "code",
   "execution_count": 119,
   "metadata": {},
   "outputs": [],
   "source": [
    "def my_data_loader(np_all_data, batch_size):\n",
    "    for i in range(1, len(np_all_data)//batch_size):\n",
    "        sectioned = np_all_data[(i-1)*batch_size:i*batch_size]\n",
    "\n",
    "        tensor_conts = torch.tensor(sectioned[:, :len(cont_col_names)], dtype=torch.float32).to(device)\n",
    "        tensor_cats = torch.tensor(sectioned[:, len(cont_col_names):-1], dtype=torch.int32).to(device)\n",
    "        tensor_y = torch.tensor(sectioned[:, -1], dtype=torch.float32).flatten().to(device)\n",
    "\n",
    "        yield tensor_conts, tensor_cats, tensor_y"
   ]
  },
  {
   "cell_type": "code",
   "execution_count": null,
   "metadata": {},
   "outputs": [],
   "source": []
  },
  {
   "cell_type": "code",
   "execution_count": 120,
   "metadata": {},
   "outputs": [],
   "source": [
    "class TabularModel(nn.Module):\n",
    "    def __init__(self, cat_list:list, cat_embedding_sizes:list, cont_list:list, layers_units:list, output_units:int, p_drop:float = 0.3) -> None:\n",
    "        super().__init__()\n",
    "\n",
    "        self.embed_layers = nn.ModuleList([nn.Embedding(*cat_embd_size) for cat_embd_size in cat_embedding_sizes])   # cat_data is (input_embedding, dim_embedding)\n",
    "        self.embed_drop = nn.Dropout(p_drop)\n",
    "        self.batch_norm_cont = nn.BatchNorm1d(len(cont_list))\n",
    "\n",
    "        input_size = sum([cat_embd_size[1] for cat_embd_size in cat_embedding_sizes]) + len(cont_list)\n",
    "    \n",
    "        layers = []\n",
    "        for layer_num in range(len(layers_units)):\n",
    "            if layer_num == 0:\n",
    "                layers.append(nn.Linear(input_size, layers_units[0]))\n",
    "                layers.append(nn.ReLU(inplace=True))\n",
    "                layers.append(nn.BatchNorm1d(layers_units[0]))\n",
    "                layers.append(nn.Dropout(p_drop))\n",
    "                continue\n",
    "            layers.append(nn.Linear(layers_units[layer_num-1], layers_units[layer_num]))\n",
    "            layers.append(nn.ReLU(inplace=True))\n",
    "            layers.append(nn.BatchNorm1d(layers_units[layer_num]))\n",
    "            layers.append(nn.Dropout(p_drop))\n",
    "        layers.append(nn.Linear(layers_units[-1], output_units))\n",
    "\n",
    "        self.layers = nn.Sequential(*layers)\n",
    "\n",
    "    def forward(self, cat_tensor, cont_tensor):\n",
    "        embeddings = []\n",
    "        for ind, embd_lay in enumerate(self.embed_layers):\n",
    "            embeddings.append(embd_lay(cat_tensor[:,ind]))\n",
    "        cat_tensor = torch.cat(embeddings, axis=1)\n",
    "        cat_tensor = self.embed_drop(cat_tensor)\n",
    "        \n",
    "        cont_tensor = self.batch_norm_cont(cont_tensor)\n",
    "        x = torch.cat([cat_tensor, cont_tensor], axis=1)\n",
    "        x = self.layers(x)\n",
    "        return x\n",
    "        "
   ]
  },
  {
   "cell_type": "code",
   "execution_count": null,
   "metadata": {},
   "outputs": [],
   "source": []
  },
  {
   "cell_type": "code",
   "execution_count": 121,
   "metadata": {},
   "outputs": [
    {
     "data": {
      "text/plain": [
       "(True,\n",
       " TabularModel(\n",
       "   (embed_layers): ModuleList(\n",
       "     (0): Embedding(18, 9)\n",
       "     (1): Embedding(5, 3)\n",
       "     (2): Embedding(7, 4)\n",
       "     (3): Embedding(2, 1)\n",
       "     (4): Embedding(21, 11)\n",
       "   )\n",
       "   (embed_drop): Dropout(p=0.3, inplace=False)\n",
       "   (batch_norm_cont): BatchNorm1d(20, eps=1e-05, momentum=0.1, affine=True, track_running_stats=True)\n",
       "   (layers): Sequential(\n",
       "     (0): Linear(in_features=48, out_features=100, bias=True)\n",
       "     (1): ReLU(inplace=True)\n",
       "     (2): BatchNorm1d(100, eps=1e-05, momentum=0.1, affine=True, track_running_stats=True)\n",
       "     (3): Dropout(p=0.3, inplace=False)\n",
       "     (4): Linear(in_features=100, out_features=50, bias=True)\n",
       "     (5): ReLU(inplace=True)\n",
       "     (6): BatchNorm1d(50, eps=1e-05, momentum=0.1, affine=True, track_running_stats=True)\n",
       "     (7): Dropout(p=0.3, inplace=False)\n",
       "     (8): Linear(in_features=50, out_features=20, bias=True)\n",
       "     (9): ReLU(inplace=True)\n",
       "     (10): BatchNorm1d(20, eps=1e-05, momentum=0.1, affine=True, track_running_stats=True)\n",
       "     (11): Dropout(p=0.3, inplace=False)\n",
       "     (12): Linear(in_features=20, out_features=10, bias=True)\n",
       "     (13): ReLU(inplace=True)\n",
       "     (14): BatchNorm1d(10, eps=1e-05, momentum=0.1, affine=True, track_running_stats=True)\n",
       "     (15): Dropout(p=0.3, inplace=False)\n",
       "     (16): Linear(in_features=10, out_features=1, bias=True)\n",
       "   )\n",
       " ))"
      ]
     },
     "execution_count": 121,
     "metadata": {},
     "output_type": "execute_result"
    }
   ],
   "source": [
    "torch.manual_seed(42)\n",
    "model = TabularModel(cat_list=categ_col_names,\n",
    "                    cat_embedding_sizes=embedding_size_list,\n",
    "                    cont_list=cont_col_names,\n",
    "                    layers_units=[100, 50, 20, 10],\n",
    "                    output_units=1,\n",
    "                    p_drop = 0.3)\n",
    "model = model.to(device)\n",
    "next(model.parameters()).is_cuda, model"
   ]
  },
  {
   "cell_type": "code",
   "execution_count": 122,
   "metadata": {},
   "outputs": [
    {
     "data": {
      "text/plain": [
       "[162,\n",
       " 15,\n",
       " 28,\n",
       " 2,\n",
       " 231,\n",
       " 20,\n",
       " 20,\n",
       " 4800,\n",
       " 100,\n",
       " 100,\n",
       " 100,\n",
       " 5000,\n",
       " 50,\n",
       " 50,\n",
       " 50,\n",
       " 1000,\n",
       " 20,\n",
       " 20,\n",
       " 20,\n",
       " 200,\n",
       " 10,\n",
       " 10,\n",
       " 10,\n",
       " 10,\n",
       " 1]"
      ]
     },
     "execution_count": 122,
     "metadata": {},
     "output_type": "execute_result"
    }
   ],
   "source": [
    "[param.numel() for param in model.parameters()]"
   ]
  },
  {
   "cell_type": "code",
   "execution_count": 123,
   "metadata": {},
   "outputs": [],
   "source": [
    "criterion = nn.MSELoss()\n",
    "optimizer = torch.optim.Adam(model.parameters(), lr=0.001)"
   ]
  },
  {
   "cell_type": "code",
   "execution_count": 124,
   "metadata": {},
   "outputs": [
    {
     "name": "stderr",
     "output_type": "stream",
     "text": [
      "c:\\Users\\Sajjad\\anaconda3\\envs\\myMLEnv\\lib\\site-packages\\torch\\nn\\modules\\loss.py:520: UserWarning: Using a target size (torch.Size([10000])) that is different to the input size (torch.Size([10000, 1])). This will likely lead to incorrect results due to broadcasting. Please ensure they have the same size.\n",
      "  return F.mse_loss(input, target, reduction=self.reduction)\n"
     ]
    },
    {
     "name": "stdout",
     "output_type": "stream",
     "text": [
      "batch number: 0 from epoch: 0, loss is 3.9639718532562256\n",
      "batch number: 40 from epoch: 0, loss is 3.8474857807159424\n",
      "batch number: 80 from epoch: 0, loss is 3.7339401245117188\n",
      "final loss after epoch: 0, loss is 3.7172980308532715\n",
      "validation loss after epoch: 0, loss is 3.5652377903461456\n",
      "batch number: 0 from epoch: 1, loss is 3.695711135864258\n",
      "batch number: 40 from epoch: 1, loss is 3.489659547805786\n",
      "batch number: 80 from epoch: 1, loss is 3.21520733833313\n",
      "final loss after epoch: 1, loss is 3.1345949172973633\n",
      "validation loss after epoch: 1, loss is 2.978017210960388\n",
      "batch number: 0 from epoch: 2, loss is 3.1483347415924072\n",
      "batch number: 40 from epoch: 2, loss is 2.7780957221984863\n",
      "batch number: 80 from epoch: 2, loss is 2.370748519897461\n",
      "final loss after epoch: 2, loss is 2.269590377807617\n",
      "validation loss after epoch: 2, loss is 2.035833865404129\n",
      "batch number: 0 from epoch: 3, loss is 2.270618200302124\n",
      "batch number: 40 from epoch: 3, loss is 1.8953990936279297\n",
      "batch number: 80 from epoch: 3, loss is 1.6021859645843506\n",
      "final loss after epoch: 3, loss is 1.553556203842163\n",
      "validation loss after epoch: 3, loss is 1.2390022277832031\n",
      "batch number: 0 from epoch: 4, loss is 1.5494623184204102\n",
      "batch number: 40 from epoch: 4, loss is 1.4385669231414795\n",
      "batch number: 80 from epoch: 4, loss is 1.3912352323532104\n",
      "final loss after epoch: 4, loss is 1.3832496404647827\n",
      "validation loss after epoch: 4, loss is 1.090126246213913\n",
      "batch number: 0 from epoch: 5, loss is 1.3821815252304077\n",
      "batch number: 40 from epoch: 5, loss is 1.3729474544525146\n",
      "batch number: 80 from epoch: 5, loss is 1.3515223264694214\n",
      "final loss after epoch: 5, loss is 1.333181619644165\n",
      "validation loss after epoch: 5, loss is 1.087604597210884\n",
      "batch number: 0 from epoch: 6, loss is 1.3471215963363647\n",
      "batch number: 40 from epoch: 6, loss is 1.3415824174880981\n",
      "batch number: 80 from epoch: 6, loss is 1.3256551027297974\n",
      "final loss after epoch: 6, loss is 1.332863688468933\n",
      "validation loss after epoch: 6, loss is 1.0880910009145737\n",
      "batch number: 0 from epoch: 7, loss is 1.3246883153915405\n",
      "batch number: 40 from epoch: 7, loss is 1.323474407196045\n",
      "batch number: 80 from epoch: 7, loss is 1.322861671447754\n",
      "final loss after epoch: 7, loss is 1.323426365852356\n",
      "validation loss after epoch: 7, loss is 1.0861573815345764\n",
      "batch number: 0 from epoch: 8, loss is 1.3171478509902954\n",
      "batch number: 40 from epoch: 8, loss is 1.3173927068710327\n",
      "batch number: 80 from epoch: 8, loss is 1.3150413036346436\n",
      "final loss after epoch: 8, loss is 1.3096572160720825\n",
      "validation loss after epoch: 8, loss is 1.0861784219741821\n",
      "batch number: 0 from epoch: 9, loss is 1.2917946577072144\n",
      "batch number: 40 from epoch: 9, loss is 1.3196704387664795\n",
      "batch number: 80 from epoch: 9, loss is 1.3023841381072998\n",
      "final loss after epoch: 9, loss is 1.3090664148330688\n",
      "validation loss after epoch: 9, loss is 1.0875900089740753\n",
      "training took 2.9107633352279665 minutes\n"
     ]
    }
   ],
   "source": [
    "start_time = ti.time()\n",
    "epochs = 10\n",
    "train_losses = []\n",
    "train_losses_per_epoch = []\n",
    "valid_losses_per_epoch = []\n",
    "for epoch in range(epochs):\n",
    "    model.train()\n",
    "    data_loader = my_data_loader(data_suffler(np_all_train), batch_size=10000)\n",
    "    for cnt, (tensor_conts_train, tensor_cats_train, tensor_y_train) in enumerate(data_loader):\n",
    "        pred = model(tensor_cats_train, tensor_conts_train)\n",
    "        loss = torch.sqrt(criterion(pred, tensor_y_train))     # this means RMSE\n",
    "        \n",
    "        if cnt % 40 == 0:\n",
    "            train_losses.append(loss)\n",
    "            print(f'batch number: {cnt} from epoch: {epoch}, loss is {loss}')\n",
    "\n",
    "        optimizer.zero_grad()\n",
    "        loss.backward()\n",
    "        optimizer.step()\n",
    "    \n",
    "    train_losses_per_epoch.append(loss)\n",
    "    print(f'final loss after epoch: {epoch}, loss is {loss}')\n",
    "\n",
    "\n",
    "    model.eval()\n",
    "    with torch.no_grad():\n",
    "        data_loader = my_data_loader(data_suffler(np_all_valid), batch_size=10000)\n",
    "        loss_list = []\n",
    "        for cnt, (tensor_conts_valid, tensor_cats_valid, tensor_y_valid) in enumerate(data_loader):\n",
    "            pred = model(tensor_cats_valid, tensor_conts_valid)\n",
    "            loss_list.append(torch.sqrt(criterion(pred, tensor_y_valid)).item())\n",
    "        valid_losses_per_epoch.append(np.array(loss_list).mean())\n",
    "        print(f'validation loss after epoch: {epoch}, loss is {np.array(loss_list).mean()}')\n",
    "\n",
    "duration = ti.time() - start_time\n",
    "print(f'training took {duration/60} minutes')"
   ]
  },
  {
   "cell_type": "code",
   "execution_count": 125,
   "metadata": {},
   "outputs": [
    {
     "data": {
      "image/png": "[encoded data removed]",
      "text/plain": [
       "<Figure size 432x288 with 1 Axes>"
      ]
     },
     "metadata": {
      "needs_background": "light"
     },
     "output_type": "display_data"
    }
   ],
   "source": [
    "plt.plot(train_losses, label='train-batch-loss')\n",
    "plt.ylabel('RMSE loss')\n",
    "plt.legend()\n",
    "plt.show()"
   ]
  },
  {
   "cell_type": "code",
   "execution_count": 126,
   "metadata": {},
   "outputs": [
    {
     "data": {
      "image/png": "[encoded data removed]",
      "text/plain": [
       "<Figure size 432x288 with 1 Axes>"
      ]
     },
     "metadata": {
      "needs_background": "light"
     },
     "output_type": "display_data"
    }
   ],
   "source": [
    "plt.plot(train_losses_per_epoch, label='train-after-epoch-loss')\n",
    "plt.ylabel('RMSE loss')\n",
    "plt.legend()\n",
    "plt.show()"
   ]
  },
  {
   "cell_type": "code",
   "execution_count": 127,
   "metadata": {},
   "outputs": [
    {
     "data": {
      "image/png": "[encoded data removed]",
      "text/plain": [
       "<Figure size 432x288 with 1 Axes>"
      ]
     },
     "metadata": {
      "needs_background": "light"
     },
     "output_type": "display_data"
    }
   ],
   "source": [
    "plt.plot(valid_losses_per_epoch, label='valid-after-epoch-loss')\n",
    "plt.ylabel('RMSE loss')\n",
    "plt.legend()\n",
    "plt.show()"
   ]
  },
  {
   "cell_type": "code",
   "execution_count": null,
   "metadata": {},
   "outputs": [],
   "source": []
  }
 ],
 "metadata": {
  "kernelspec": {
   "display_name": "myMLEnv",
   "language": "python",
   "name": "python3"
  },
  "language_info": {
   "codemirror_mode": {
    "name": "ipython",
    "version": 3
   },
   "file_extension": ".py",
   "mimetype": "text/x-python",
   "name": "python",
   "nbconvert_exporter": "python",
   "pygments_lexer": "ipython3",
   "version": "3.8.11"
  },
  "orig_nbformat": 4,
  "vscode": {
   "interpreter": {
    "hash": "418a5ed4ed6d8198b840b61453495c26d507d70d3841dd181a7388aaa4474a5c"
   }
  }
 },
 "nbformat": 4,
 "nbformat_minor": 2
}
